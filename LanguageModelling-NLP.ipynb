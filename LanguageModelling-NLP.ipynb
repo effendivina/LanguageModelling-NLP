{
 "cells": [
  {
   "cell_type": "code",
   "execution_count": 2,
   "metadata": {},
   "outputs": [],
   "source": [
    "import csv\n",
    "import nltk"
   ]
  },
  {
   "cell_type": "code",
   "execution_count": 3,
   "metadata": {},
   "outputs": [],
   "source": [
    "def openarticle(doc_name):\n",
    "    with open(doc_name, encoding=\"utf-8\") as csvfile:\n",
    "        rawArticles = csv.reader(csvfile, delimiter=',')\n",
    "        articles = []\n",
    "        for row in rawArticles:\n",
    "            articles.append(row[2].lower())\n",
    "    return articles"
   ]
  },
  {
   "cell_type": "code",
   "execution_count": 4,
   "metadata": {},
   "outputs": [],
   "source": [
    "def tokenize(articles):\n",
    "    tokenization = []\n",
    "    for i in articles:\n",
    "        tokenization.append(nltk.word_tokenize(i))\n",
    "    return tokenization"
   ]
  },
  {
   "cell_type": "code",
   "execution_count": 5,
   "metadata": {
    "scrolled": true
   },
   "outputs": [],
   "source": [
    "def model_unigram(tokenization):\n",
    "    freq_unigram = {}\n",
    "    counter_unigram = 0\n",
    "    for tokens in tokenization:\n",
    "        for token in tokens:\n",
    "            if token in freq_unigram:\n",
    "                freq_unigram[token] += 1\n",
    "            else:\n",
    "                freq_unigram[token] = 1\n",
    "            counter_unigram += 1\n",
    "    print(\"jumlah kata: \",counter_unigram)\n",
    "    prob_unigram = {}\n",
    "    for token in freq_unigram:\n",
    "        prob_unigram[token] = freq_unigram[token]/counter_unigram\n",
    "    prob_unigram\n",
    "    return freq_unigram, prob_unigram"
   ]
  },
  {
   "cell_type": "code",
   "execution_count": 6,
   "metadata": {},
   "outputs": [],
   "source": [
    "def model_bigram(tokenization):\n",
    "    freq_bigram = {}\n",
    "    counter_bigram = 0\n",
    "    for tokens in tokenization:\n",
    "        for i in range(len(tokens)-1):\n",
    "            if (tokens[i],tokens[i+1]) in freq_bigram:\n",
    "                freq_bigram[(tokens[i],tokens[i+1])] += 1\n",
    "            else:\n",
    "                freq_bigram[(tokens[i],tokens[i+1])] = 1\n",
    "            counter_bigram += 1\n",
    "    print(\"jumlah kata: \",counter_bigram)\n",
    "    prob_bigram = {}\n",
    "    for token in freq_bigram:\n",
    "        prob_bigram[token] = freq_bigram[token]/counter_bigram\n",
    "    return freq_bigram, prob_bigram"
   ]
  },
  {
   "cell_type": "code",
   "execution_count": 7,
   "metadata": {},
   "outputs": [],
   "source": [
    "def suggest(word, prob_bigram):\n",
    "    sggst = {}\n",
    "    for key,value in prob_bigram.items():\n",
    "        if key[0]==word:\n",
    "            sggst[key]=value\n",
    "    return sggst"
   ]
  },
  {
   "cell_type": "code",
   "execution_count": 8,
   "metadata": {},
   "outputs": [
    {
     "name": "stdout",
     "output_type": "stream",
     "text": [
      "jumlah kata:  13\n"
     ]
    },
    {
     "data": {
      "text/plain": [
       "{('saya', 'pergi'): 0.15384615384615385,\n",
       " ('pergi', 'ke'): 0.15384615384615385,\n",
       " ('ke', 'pasar'): 0.07692307692307693,\n",
       " ('ke', 'sekolah'): 0.07692307692307693,\n",
       " ('saya', 'makan'): 0.07692307692307693,\n",
       " ('makan', 'nasi'): 0.15384615384615385,\n",
       " ('dia', 'mau'): 0.15384615384615385,\n",
       " ('mau', 'belajar'): 0.07692307692307693,\n",
       " ('mau', 'makan'): 0.07692307692307693}"
      ]
     },
     "execution_count": 8,
     "metadata": {},
     "output_type": "execute_result"
    }
   ],
   "source": [
    "articles = openarticle('artikeltest.csv')\n",
    "tokenization = tokenize(articles)\n",
    "freq_bigram, prob_bigram = model_bigram(tokenization)\n",
    "prob_bigram"
   ]
  },
  {
   "cell_type": "code",
   "execution_count": 1,
   "metadata": {},
   "outputs": [
    {
     "ename": "NameError",
     "evalue": "name 'suggest' is not defined",
     "output_type": "error",
     "traceback": [
      "\u001b[1;31m---------------------------------------------------------------------------\u001b[0m",
      "\u001b[1;31mNameError\u001b[0m                                 Traceback (most recent call last)",
      "\u001b[1;32m<ipython-input-1-14db31b5b248>\u001b[0m in \u001b[0;36m<module>\u001b[1;34m()\u001b[0m\n\u001b[1;32m----> 1\u001b[1;33m \u001b[0msggst\u001b[0m \u001b[1;33m=\u001b[0m \u001b[0msuggest\u001b[0m\u001b[1;33m(\u001b[0m\u001b[1;34m'ke'\u001b[0m\u001b[1;33m,\u001b[0m\u001b[0mprob_bigram\u001b[0m\u001b[1;33m)\u001b[0m\u001b[1;33m\u001b[0m\u001b[0m\n\u001b[0m\u001b[0;32m      2\u001b[0m \u001b[1;32mfor\u001b[0m \u001b[0mk\u001b[0m\u001b[1;33m,\u001b[0m\u001b[0mv\u001b[0m \u001b[1;32min\u001b[0m \u001b[0msggst\u001b[0m\u001b[1;33m.\u001b[0m\u001b[0mitems\u001b[0m\u001b[1;33m(\u001b[0m\u001b[1;33m)\u001b[0m\u001b[1;33m:\u001b[0m\u001b[1;33m\u001b[0m\u001b[0m\n\u001b[0;32m      3\u001b[0m     \u001b[0mprint\u001b[0m\u001b[1;33m(\u001b[0m\u001b[0mk\u001b[0m\u001b[1;33m[\u001b[0m\u001b[1;36m1\u001b[0m\u001b[1;33m]\u001b[0m\u001b[1;33m,\u001b[0m\u001b[0mv\u001b[0m\u001b[1;33m)\u001b[0m\u001b[1;33m\u001b[0m\u001b[0m\n",
      "\u001b[1;31mNameError\u001b[0m: name 'suggest' is not defined"
     ]
    }
   ],
   "source": [
    "sggst = suggest('ke',prob_bigram)\n",
    "for k,v in sggst.items():\n",
    "    print(k[1],v)"
   ]
  },
  {
   "cell_type": "code",
   "execution_count": null,
   "metadata": {},
   "outputs": [],
   "source": []
  }
 ],
 "metadata": {
  "kernelspec": {
   "display_name": "Python 3",
   "language": "python",
   "name": "python3"
  },
  "language_info": {
   "codemirror_mode": {
    "name": "ipython",
    "version": 3
   },
   "file_extension": ".py",
   "mimetype": "text/x-python",
   "name": "python",
   "nbconvert_exporter": "python",
   "pygments_lexer": "ipython3",
   "version": "3.6.5"
  }
 },
 "nbformat": 4,
 "nbformat_minor": 2
}
